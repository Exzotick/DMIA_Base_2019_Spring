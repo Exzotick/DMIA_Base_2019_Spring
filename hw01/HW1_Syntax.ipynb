{
  "nbformat": 4,
  "nbformat_minor": 0,
  "metadata": {
    "colab": {
      "name": "HW1. Syntax.ipynb",
      "version": "0.3.2",
      "provenance": [],
      "collapsed_sections": [],
      "include_colab_link": true
    },
    "kernelspec": {
      "name": "python3",
      "display_name": "Python 3"
    }
  },
  "cells": [
    {
      "cell_type": "markdown",
      "metadata": {
        "id": "view-in-github",
        "colab_type": "text"
      },
      "source": [
        "<a href=\"https://colab.research.google.com/github/Exzotick/DMIA_Base_2019_Spring/blob/master/hw01/HW1_Syntax.ipynb\" target=\"_parent\"><img src=\"https://colab.research.google.com/assets/colab-badge.svg\" alt=\"Open In Colab\"/></a>"
      ]
    },
    {
      "metadata": {
        "id": "5IjPK8xASLDx",
        "colab_type": "text"
      },
      "cell_type": "markdown",
      "source": [
        "# Базовая часть"
      ]
    },
    {
      "metadata": {
        "id": "cHWde2n9SLD3",
        "colab_type": "text"
      },
      "cell_type": "markdown",
      "source": [
        "## Задание 1.1\n",
        "\n",
        "Напишите функцию, которая принимает список чисел my_list (количество товаров разных марок) и число $n$ и возвращает сумму всех чисел списка меньше либо равных $n$ (суммарное количество товаров, которых в наличие меньше либо равно $n$)."
      ]
    },
    {
      "metadata": {
        "id": "uQAS2ZEiSLD_",
        "colab_type": "code",
        "colab": {}
      },
      "cell_type": "code",
      "source": [
        "def function_1_1(my_list, n):\n",
        "    s = 0\n",
        "    for it in my_list:\n",
        "        if it <= n:\n",
        "            s = s+it\n",
        "    return s"
      ],
      "execution_count": 0,
      "outputs": []
    },
    {
      "metadata": {
        "id": "V9l8msyYSLEM",
        "colab_type": "code",
        "outputId": "72b14b06-bf6f-4df3-931a-f2fa3f73531c",
        "colab": {
          "base_uri": "https://localhost:8080/",
          "height": 34
        }
      },
      "cell_type": "code",
      "source": [
        "function_1_1([1, 2, 3, 4, 5, 6, 3, 7], 7) == 31"
      ],
      "execution_count": 0,
      "outputs": [
        {
          "output_type": "execute_result",
          "data": {
            "text/plain": [
              "True"
            ]
          },
          "metadata": {
            "tags": []
          },
          "execution_count": 38
        }
      ]
    },
    {
      "metadata": {
        "id": "uxywdR3YSLEY",
        "colab_type": "code",
        "outputId": "caf8bc76-2f86-4a62-8b45-9d70ff1d73c0",
        "colab": {
          "base_uri": "https://localhost:8080/",
          "height": 34
        }
      },
      "cell_type": "code",
      "source": [
        "function_1_1([1, 2, 3, 4, 4, 3, 2, 1], 7) == 20"
      ],
      "execution_count": 0,
      "outputs": [
        {
          "output_type": "execute_result",
          "data": {
            "text/plain": [
              "True"
            ]
          },
          "metadata": {
            "tags": []
          },
          "execution_count": 39
        }
      ]
    },
    {
      "metadata": {
        "id": "XRgH1TxRSLEk",
        "colab_type": "code",
        "outputId": "0b965d24-aed6-4cd8-97d1-d0cc81929cf1",
        "colab": {
          "base_uri": "https://localhost:8080/",
          "height": 34
        }
      },
      "cell_type": "code",
      "source": [
        "function_1_1([1, 2, 3, 4, 4, 3, 2, 1], 3) == 12"
      ],
      "execution_count": 0,
      "outputs": [
        {
          "output_type": "execute_result",
          "data": {
            "text/plain": [
              "True"
            ]
          },
          "metadata": {
            "tags": []
          },
          "execution_count": 40
        }
      ]
    },
    {
      "metadata": {
        "id": "91b3wcWCSLEw",
        "colab_type": "code",
        "outputId": "aa7d2c86-3a70-41bb-d2fb-1fa2ea1a8821",
        "colab": {
          "base_uri": "https://localhost:8080/",
          "height": 34
        }
      },
      "cell_type": "code",
      "source": [
        "function_1_1([1, 2, 3, 4, 5, 6, 3, 7], 5) == 18"
      ],
      "execution_count": 0,
      "outputs": [
        {
          "output_type": "execute_result",
          "data": {
            "text/plain": [
              "True"
            ]
          },
          "metadata": {
            "tags": []
          },
          "execution_count": 41
        }
      ]
    },
    {
      "metadata": {
        "id": "SUe-BzFuSLE7",
        "colab_type": "code",
        "outputId": "f96d18da-7b42-440f-f5b0-1b4e371d16ef",
        "colab": {
          "base_uri": "https://localhost:8080/",
          "height": 34
        }
      },
      "cell_type": "code",
      "source": [
        "function_1_1([1, 2, 3, 4, 5, 6, 3, 7], 3) == 9"
      ],
      "execution_count": 0,
      "outputs": [
        {
          "output_type": "execute_result",
          "data": {
            "text/plain": [
              "True"
            ]
          },
          "metadata": {
            "tags": []
          },
          "execution_count": 42
        }
      ]
    },
    {
      "metadata": {
        "id": "mgZBDA3zSLFJ",
        "colab_type": "code",
        "outputId": "28807299-d250-4f8e-efeb-6af1aef193ff",
        "colab": {
          "base_uri": "https://localhost:8080/",
          "height": 34
        }
      },
      "cell_type": "code",
      "source": [
        "function_1_1([1, 2, 3, 4, 5, 6, 3, 7], 0) == 0"
      ],
      "execution_count": 0,
      "outputs": [
        {
          "output_type": "execute_result",
          "data": {
            "text/plain": [
              "True"
            ]
          },
          "metadata": {
            "tags": []
          },
          "execution_count": 43
        }
      ]
    },
    {
      "metadata": {
        "id": "xYGUpEEpSLFW",
        "colab_type": "text"
      },
      "cell_type": "markdown",
      "source": [
        "#### Значение для формы"
      ]
    },
    {
      "metadata": {
        "id": "ejqKorZ8SLFl",
        "colab_type": "code",
        "outputId": "7dd8b566-6340-4887-8eb4-948f976c25c8",
        "colab": {
          "base_uri": "https://localhost:8080/",
          "height": 34
        }
      },
      "cell_type": "code",
      "source": [
        "import random\n",
        "\n",
        "random.seed(42)\n",
        "print(function_1_1([random.randint(0, 1000) for _ in range(10000)], 700))"
      ],
      "execution_count": 0,
      "outputs": [
        {
          "output_type": "stream",
          "text": [
            "2496584\n"
          ],
          "name": "stdout"
        }
      ]
    },
    {
      "metadata": {
        "id": "fELC_lSgSLFy",
        "colab_type": "text"
      },
      "cell_type": "markdown",
      "source": [
        "## Задание 1.2\n",
        "\n",
        "Имеется список пар (фамилия, долг) $my\\_list$ и число $dept$. Нужно написать функцию, которая для каждой фамилии находит суммарный долг и выводит отсортированный список фамилий, у которых долг строго больше $dept$.\n",
        "\n",
        "Одна и та же фамилия может встречаться несколько раз, и тогда долги по ней суммируются."
      ]
    },
    {
      "metadata": {
        "id": "exp6RiA1SLF1",
        "colab_type": "code",
        "colab": {}
      },
      "cell_type": "code",
      "source": [
        "def function_1_2(my_list, dept):\n",
        "    depts = {}\n",
        "    for pair in my_list:\n",
        "        if pair[0] in depts.keys():\n",
        "            depts[pair[0]] = depts[pair[0]] + pair[1]\n",
        "        else:\n",
        "            depts[pair[0]] = pair[1]\n",
        "    gt_dept = []\n",
        "    for name in depts:\n",
        "        if depts[name]>dept:\n",
        "            gt_dept.append(name)\n",
        "    return sorted(gt_dept)"
      ],
      "execution_count": 0,
      "outputs": []
    },
    {
      "metadata": {
        "id": "zpYr5V5TSLF-",
        "colab_type": "code",
        "outputId": "013e350f-2260-404b-9204-c165beb33777",
        "colab": {
          "base_uri": "https://localhost:8080/",
          "height": 34
        }
      },
      "cell_type": "code",
      "source": [
        "function_1_2([('Ivanov', 1), ('Petrov', 2), ('Ivanov', 2), ('Sidorov', 4)], 1) == ['Ivanov', 'Petrov', 'Sidorov']"
      ],
      "execution_count": 0,
      "outputs": [
        {
          "output_type": "execute_result",
          "data": {
            "text/plain": [
              "True"
            ]
          },
          "metadata": {
            "tags": []
          },
          "execution_count": 46
        }
      ]
    },
    {
      "metadata": {
        "id": "q_Q3GbjGSLGK",
        "colab_type": "code",
        "outputId": "e5d28685-5997-4bcc-c01a-870b5329535a",
        "colab": {
          "base_uri": "https://localhost:8080/",
          "height": 34
        }
      },
      "cell_type": "code",
      "source": [
        "function_1_2([('Ivanov', 1), ('Petrov', 2), ('Ivanov', 2), ('Sidorov', 4)], 2) == ['Ivanov', 'Sidorov']"
      ],
      "execution_count": 0,
      "outputs": [
        {
          "output_type": "execute_result",
          "data": {
            "text/plain": [
              "True"
            ]
          },
          "metadata": {
            "tags": []
          },
          "execution_count": 47
        }
      ]
    },
    {
      "metadata": {
        "id": "lyKz6PznSLGb",
        "colab_type": "code",
        "outputId": "6f083daf-51c5-4ae2-a1a9-e879f6100917",
        "colab": {
          "base_uri": "https://localhost:8080/",
          "height": 34
        }
      },
      "cell_type": "code",
      "source": [
        "function_1_2([('Ivanov', 1), ('Petrov', 2), ('Ivanov', 2), ('Sidorov', 4)], 3) == ['Sidorov']"
      ],
      "execution_count": 0,
      "outputs": [
        {
          "output_type": "execute_result",
          "data": {
            "text/plain": [
              "True"
            ]
          },
          "metadata": {
            "tags": []
          },
          "execution_count": 48
        }
      ]
    },
    {
      "metadata": {
        "id": "iCpIpYEYSLGl",
        "colab_type": "code",
        "outputId": "c2656639-5f36-429f-f212-6c144396ab22",
        "colab": {
          "base_uri": "https://localhost:8080/",
          "height": 34
        }
      },
      "cell_type": "code",
      "source": [
        "function_1_2([('Ivanov', 1), ('Petrov', 2), ('Ivanov', 2), ('Sidorov', 4)], 4) == []"
      ],
      "execution_count": 0,
      "outputs": [
        {
          "output_type": "execute_result",
          "data": {
            "text/plain": [
              "True"
            ]
          },
          "metadata": {
            "tags": []
          },
          "execution_count": 49
        }
      ]
    },
    {
      "metadata": {
        "id": "gGNffqdUSLGu",
        "colab_type": "code",
        "outputId": "916ad8eb-10f1-46a2-9754-06c0df863fc8",
        "colab": {
          "base_uri": "https://localhost:8080/",
          "height": 34
        }
      },
      "cell_type": "code",
      "source": [
        "function_1_2([('Ivanov', 1), ('Petrov', 2), ('Ivanov', 1), ('Sidorov', 4)], 2) == ['Sidorov']"
      ],
      "execution_count": 0,
      "outputs": [
        {
          "output_type": "execute_result",
          "data": {
            "text/plain": [
              "True"
            ]
          },
          "metadata": {
            "tags": []
          },
          "execution_count": 50
        }
      ]
    },
    {
      "metadata": {
        "id": "IZgUsNChSLG4",
        "colab_type": "code",
        "outputId": "2f68e580-eaa8-4313-eafb-05cf29e11657",
        "colab": {
          "base_uri": "https://localhost:8080/",
          "height": 34
        }
      },
      "cell_type": "code",
      "source": [
        "function_1_2([('Ivanov', 1), ('Petrov', 2), ('Ivanov', 2), ('Petrov', 4)], 2) == ['Ivanov', 'Petrov']"
      ],
      "execution_count": 0,
      "outputs": [
        {
          "output_type": "execute_result",
          "data": {
            "text/plain": [
              "True"
            ]
          },
          "metadata": {
            "tags": []
          },
          "execution_count": 51
        }
      ]
    },
    {
      "metadata": {
        "id": "wv2zR0oUSLHE",
        "colab_type": "code",
        "outputId": "41707858-0516-428d-ffba-65ef803d1f55",
        "colab": {
          "base_uri": "https://localhost:8080/",
          "height": 34
        }
      },
      "cell_type": "code",
      "source": [
        "function_1_2([('Ivanov', 1), ('Petrov', 2), ('Ivanov', 2), ('Petrov', 4)], 3) == ['Petrov']"
      ],
      "execution_count": 0,
      "outputs": [
        {
          "output_type": "execute_result",
          "data": {
            "text/plain": [
              "True"
            ]
          },
          "metadata": {
            "tags": []
          },
          "execution_count": 52
        }
      ]
    },
    {
      "metadata": {
        "id": "KbTdOn4pSLHV",
        "colab_type": "text"
      },
      "cell_type": "markdown",
      "source": [
        "#### Значение для формы"
      ]
    },
    {
      "metadata": {
        "id": "oMWN-cq9SLHZ",
        "colab_type": "code",
        "outputId": "77cc9005-6c85-4287-ed47-941c21e8e020",
        "colab": {
          "base_uri": "https://localhost:8080/",
          "height": 34
        }
      },
      "cell_type": "code",
      "source": [
        "import random\n",
        "import numpy as np\n",
        "\n",
        "\n",
        "random.seed(42)\n",
        "print(','.join(function_1_2([\n",
        "    (str(random.randint(1, 20)), random.randint(1, 1000) )\n",
        "    for _ in range(1000)\n",
        "], 25000)))"
      ],
      "execution_count": 0,
      "outputs": [
        {
          "output_type": "stream",
          "text": [
            "10,11,14,18,19,3,4,5,8,9\n"
          ],
          "name": "stdout"
        }
      ]
    },
    {
      "metadata": {
        "id": "LRvg6o4pSLHk",
        "colab_type": "text"
      },
      "cell_type": "markdown",
      "source": [
        "# Продвинутая часть"
      ]
    },
    {
      "metadata": {
        "id": "NAeY2e3tSLHm",
        "colab_type": "text"
      },
      "cell_type": "markdown",
      "source": [
        "## Задание 2.1\n",
        "\n",
        "Напишите функцию, принимающую число $n$ и считающую $n!$, не используя модуль math\n",
        "\n",
        "$n! = 1 \\cdot 2 \\cdot 3 \\cdot \\dots \\cdot (n - 1) \\cdot n$\n",
        "\n",
        "Подсказка: воспользуйтесь циклами"
      ]
    },
    {
      "metadata": {
        "id": "MYb7LimESLHp",
        "colab_type": "code",
        "colab": {}
      },
      "cell_type": "code",
      "source": [
        "def function_2_1(n):\n",
        "    fact = 1\n",
        "    for i in range(1, n+1):\n",
        "        fact = fact*i\n",
        "    return fact"
      ],
      "execution_count": 0,
      "outputs": []
    },
    {
      "metadata": {
        "id": "WQqK7RVeSLH7",
        "colab_type": "code",
        "outputId": "a9a90c09-e242-4b93-9e71-f231d958e1ca",
        "colab": {
          "base_uri": "https://localhost:8080/",
          "height": 34
        }
      },
      "cell_type": "code",
      "source": [
        "function_2_1(3) == 6"
      ],
      "execution_count": 0,
      "outputs": [
        {
          "output_type": "execute_result",
          "data": {
            "text/plain": [
              "True"
            ]
          },
          "metadata": {
            "tags": []
          },
          "execution_count": 55
        }
      ]
    },
    {
      "metadata": {
        "id": "wmn2mpOqSLIJ",
        "colab_type": "code",
        "outputId": "14f4da11-899e-4686-c523-5e770a52aec2",
        "colab": {
          "base_uri": "https://localhost:8080/",
          "height": 34
        }
      },
      "cell_type": "code",
      "source": [
        "function_2_1(5) == 120"
      ],
      "execution_count": 0,
      "outputs": [
        {
          "output_type": "execute_result",
          "data": {
            "text/plain": [
              "True"
            ]
          },
          "metadata": {
            "tags": []
          },
          "execution_count": 56
        }
      ]
    },
    {
      "metadata": {
        "id": "-6QuaeEpSLIR",
        "colab_type": "code",
        "outputId": "b64138e3-9cf8-4097-bd83-5ad31c463223",
        "colab": {
          "base_uri": "https://localhost:8080/",
          "height": 34
        }
      },
      "cell_type": "code",
      "source": [
        "function_2_1(9) == 362880"
      ],
      "execution_count": 0,
      "outputs": [
        {
          "output_type": "execute_result",
          "data": {
            "text/plain": [
              "True"
            ]
          },
          "metadata": {
            "tags": []
          },
          "execution_count": 57
        }
      ]
    },
    {
      "metadata": {
        "id": "1txc7u4HSLIa",
        "colab_type": "code",
        "outputId": "4bcff293-84fa-4ce6-a51d-cf46ac120dd2",
        "colab": {
          "base_uri": "https://localhost:8080/",
          "height": 34
        }
      },
      "cell_type": "code",
      "source": [
        "function_2_1(13) == 6227020800"
      ],
      "execution_count": 0,
      "outputs": [
        {
          "output_type": "execute_result",
          "data": {
            "text/plain": [
              "True"
            ]
          },
          "metadata": {
            "tags": []
          },
          "execution_count": 58
        }
      ]
    },
    {
      "metadata": {
        "id": "jt03HJRRSLIh",
        "colab_type": "text"
      },
      "cell_type": "markdown",
      "source": [
        "#### Значение для формы"
      ]
    },
    {
      "metadata": {
        "id": "qixg_QSTSLIk",
        "colab_type": "code",
        "outputId": "5c7db548-0555-45da-9b3d-71d0433568a3",
        "colab": {
          "base_uri": "https://localhost:8080/",
          "height": 34
        }
      },
      "cell_type": "code",
      "source": [
        "print(function_2_1(100))"
      ],
      "execution_count": 0,
      "outputs": [
        {
          "output_type": "stream",
          "text": [
            "93326215443944152681699238856266700490715968264381621468592963895217599993229915608941463976156518286253697920827223758251185210916864000000000000000000000000\n"
          ],
          "name": "stdout"
        }
      ]
    },
    {
      "metadata": {
        "id": "y1r94uGrSLIu",
        "colab_type": "text"
      },
      "cell_type": "markdown",
      "source": [
        "## Задание 2.2\n",
        "\n",
        "Есть два списка чисел: цены товаров в одном магазине и цены товаров в другом магазине.\n",
        "\n",
        "Нужно сравнить средние (среднее берётся по всем товарам) цены, минимальные цены и максимальные  в магазинах. Если первое зачение меньше надо вернуть 'First', если второе, то 'Second', а если равны, то 'Equal'\n",
        "\n",
        "Например, function_2_2([1, 2, 3], [2, 2, 2])\n",
        "\n",
        "В первом магазине среднее значение 2, минимальное 1, максимальное 3. А во втором среднее 2, минимальное 2 и максимальное 2.\n",
        "\n",
        "Результаты сравнения $2 = 2,~1 < 2,~3 > 2$, поэтому нужно вернуть  ('Equal', 'First', 'Second')"
      ]
    },
    {
      "metadata": {
        "id": "H2MQTY_OSLIx",
        "colab_type": "code",
        "colab": {}
      },
      "cell_type": "code",
      "source": [
        "def function_2_2(list1, list2):\n",
        "    def avg(nums):\n",
        "        return sum(nums)/len(nums)\n",
        "    l1 = {'avg': avg(list1), 'min': min(list1), 'max': max(list1)}\n",
        "    l2 = {'avg': avg(list2), 'min': min(list2), 'max': max(list2)}\n",
        "    d = []\n",
        "    for key in l1:\n",
        "        if l1[key]<l2[key]:\n",
        "            d.append('First')\n",
        "        elif l1[key]>l2[key]:\n",
        "            d.append('Second')\n",
        "        else:\n",
        "            d.append('Equal')\n",
        "    return tuple(d)"
      ],
      "execution_count": 0,
      "outputs": []
    },
    {
      "metadata": {
        "id": "z3NOJ_PoSLI5",
        "colab_type": "code",
        "outputId": "7bacf760-f016-4a0d-f1a5-365c936f295c",
        "colab": {
          "base_uri": "https://localhost:8080/",
          "height": 34
        }
      },
      "cell_type": "code",
      "source": [
        "function_2_2([1, 2, 3], [2, 2, 2]) == ('Equal', 'First', 'Second')"
      ],
      "execution_count": 0,
      "outputs": [
        {
          "output_type": "execute_result",
          "data": {
            "text/plain": [
              "True"
            ]
          },
          "metadata": {
            "tags": []
          },
          "execution_count": 64
        }
      ]
    },
    {
      "metadata": {
        "id": "vTmQDIUPSLJA",
        "colab_type": "code",
        "outputId": "ad94738d-fa47-4ca5-86a7-97b77dde5c1f",
        "colab": {
          "base_uri": "https://localhost:8080/",
          "height": 34
        }
      },
      "cell_type": "code",
      "source": [
        "function_2_2([2, 2, 1], [4]) ==('First', 'First', 'First')"
      ],
      "execution_count": 0,
      "outputs": [
        {
          "output_type": "execute_result",
          "data": {
            "text/plain": [
              "True"
            ]
          },
          "metadata": {
            "tags": []
          },
          "execution_count": 65
        }
      ]
    },
    {
      "metadata": {
        "id": "zoaj1--MSLJI",
        "colab_type": "code",
        "outputId": "4727b62a-b805-4c4f-88f4-db066e3d5265",
        "colab": {
          "base_uri": "https://localhost:8080/",
          "height": 34
        }
      },
      "cell_type": "code",
      "source": [
        "function_2_2([3, 5], [2, 4, 6]) == ('Equal', 'Second', 'First')"
      ],
      "execution_count": 0,
      "outputs": [
        {
          "output_type": "execute_result",
          "data": {
            "text/plain": [
              "True"
            ]
          },
          "metadata": {
            "tags": []
          },
          "execution_count": 66
        }
      ]
    },
    {
      "metadata": {
        "id": "zfcyZ6wkSLJQ",
        "colab_type": "code",
        "outputId": "b90e2fbb-2f52-4366-8e59-09cf61ec593e",
        "colab": {
          "base_uri": "https://localhost:8080/",
          "height": 34
        }
      },
      "cell_type": "code",
      "source": [
        "function_2_2([1, 7], [2, 4, 7]) == ('First', 'First', 'Equal')"
      ],
      "execution_count": 0,
      "outputs": [
        {
          "output_type": "execute_result",
          "data": {
            "text/plain": [
              "True"
            ]
          },
          "metadata": {
            "tags": []
          },
          "execution_count": 67
        }
      ]
    },
    {
      "metadata": {
        "id": "oLNzh-VXSLJd",
        "colab_type": "text"
      },
      "cell_type": "markdown",
      "source": [
        "#### Значение для формы"
      ]
    },
    {
      "metadata": {
        "id": "Ws-jgOQpSLJf",
        "colab_type": "code",
        "outputId": "6fcfea51-1979-4e02-ead2-66175c7779b1",
        "colab": {
          "base_uri": "https://localhost:8080/",
          "height": 34
        }
      },
      "cell_type": "code",
      "source": [
        "import random\n",
        "\n",
        "random.seed(47)\n",
        "print(','.join(function_2_2(\n",
        "    [random.randint(0, 100000) for _ in range(1000)],\n",
        "    [random.randint(0, 100000) for _ in range(1000)]\n",
        ")))"
      ],
      "execution_count": 0,
      "outputs": [
        {
          "output_type": "stream",
          "text": [
            "Second,First,Second\n"
          ],
          "name": "stdout"
        }
      ]
    },
    {
      "metadata": {
        "id": "0VVW9ztoSLJo",
        "colab_type": "text"
      },
      "cell_type": "markdown",
      "source": [
        "# Сложная часть"
      ]
    },
    {
      "metadata": {
        "id": "xazColSMSLJr",
        "colab_type": "text"
      },
      "cell_type": "markdown",
      "source": [
        "## Задание 3.1\n",
        "\n",
        "Вам известны количество продаж разных товаров. Они представлены в виде списка, первое значение - число продаж первого товара, второе значение - второго, и так далее. Вы хотите посмотреть на список самых популярных товаров среди тех, у которых объём продаж не выше заданного числа.\n",
        "\n",
        "Напишите функцию, которая принимает список чисел my_list, число  $n$ и число $k$  и возвращает сумму $k$ наибольших чисел среди всех чисел списка меньше либо равных  $n$ ."
      ]
    },
    {
      "metadata": {
        "id": "BNBDIpeiSLJu",
        "colab_type": "code",
        "colab": {}
      },
      "cell_type": "code",
      "source": [
        "def function_3_1(my_list, n, k):\n",
        "    lt_n = list(filter(lambda x: x<=n, my_list))\n",
        "    return sum(sorted(lt_n)[-k:])"
      ],
      "execution_count": 0,
      "outputs": []
    },
    {
      "metadata": {
        "id": "Fq3fuQUBSLKC",
        "colab_type": "code",
        "outputId": "7cbae227-e424-41ef-ffc1-3d9562c9c546",
        "colab": {
          "base_uri": "https://localhost:8080/",
          "height": 34
        }
      },
      "cell_type": "code",
      "source": [
        "function_3_1([1, 2, 3, 4, 5, 6, 3, 7], 7, 1) == 7"
      ],
      "execution_count": 0,
      "outputs": [
        {
          "output_type": "execute_result",
          "data": {
            "text/plain": [
              "True"
            ]
          },
          "metadata": {
            "tags": []
          },
          "execution_count": 72
        }
      ]
    },
    {
      "metadata": {
        "id": "pfAnlwXmSLKM",
        "colab_type": "code",
        "outputId": "b7f82d09-cad1-4d7b-e8f0-aad89d8d7a08",
        "colab": {
          "base_uri": "https://localhost:8080/",
          "height": 34
        }
      },
      "cell_type": "code",
      "source": [
        "function_3_1([1, 2, 3, 4, 5, 6, 3, 7], 7, 3) == 18"
      ],
      "execution_count": 0,
      "outputs": [
        {
          "output_type": "execute_result",
          "data": {
            "text/plain": [
              "True"
            ]
          },
          "metadata": {
            "tags": []
          },
          "execution_count": 73
        }
      ]
    },
    {
      "metadata": {
        "id": "QQiAmpVcSLKW",
        "colab_type": "code",
        "outputId": "7a2cf8ea-6fdc-4d96-bd95-2374a29a09b3",
        "colab": {
          "base_uri": "https://localhost:8080/",
          "height": 34
        }
      },
      "cell_type": "code",
      "source": [
        "function_3_1([1, 2, 3, 4, 5, 6, 3, 7], 7, 5) == 25"
      ],
      "execution_count": 0,
      "outputs": [
        {
          "output_type": "execute_result",
          "data": {
            "text/plain": [
              "True"
            ]
          },
          "metadata": {
            "tags": []
          },
          "execution_count": 74
        }
      ]
    },
    {
      "metadata": {
        "id": "dn2KEYKaSLKi",
        "colab_type": "code",
        "outputId": "bf584fd0-11f7-4f2b-aaec-4d9e40c31ba9",
        "colab": {
          "base_uri": "https://localhost:8080/",
          "height": 34
        }
      },
      "cell_type": "code",
      "source": [
        "function_3_1([1, 2, 3, 4, 5, 6, 3, 7], 7, 8) == 31"
      ],
      "execution_count": 0,
      "outputs": [
        {
          "output_type": "execute_result",
          "data": {
            "text/plain": [
              "True"
            ]
          },
          "metadata": {
            "tags": []
          },
          "execution_count": 75
        }
      ]
    },
    {
      "metadata": {
        "id": "kanmpo9uSLKr",
        "colab_type": "code",
        "outputId": "faec24f3-50f1-4294-abd5-769bb71913ea",
        "colab": {
          "base_uri": "https://localhost:8080/",
          "height": 34
        }
      },
      "cell_type": "code",
      "source": [
        "function_3_1([1, 2, 3, 4, 5, 6, 3, 7], 7, 10) == 31"
      ],
      "execution_count": 0,
      "outputs": [
        {
          "output_type": "execute_result",
          "data": {
            "text/plain": [
              "True"
            ]
          },
          "metadata": {
            "tags": []
          },
          "execution_count": 76
        }
      ]
    },
    {
      "metadata": {
        "id": "uyM2g2YMSLK0",
        "colab_type": "code",
        "outputId": "7d8d6010-003f-4eff-ee08-f44bd59753bd",
        "colab": {
          "base_uri": "https://localhost:8080/",
          "height": 34
        }
      },
      "cell_type": "code",
      "source": [
        "function_3_1([1, 5, 3, 6, 5, 6, 3, 6], 6, 3) == 18"
      ],
      "execution_count": 0,
      "outputs": [
        {
          "output_type": "execute_result",
          "data": {
            "text/plain": [
              "True"
            ]
          },
          "metadata": {
            "tags": []
          },
          "execution_count": 77
        }
      ]
    },
    {
      "metadata": {
        "id": "poBq2lOASLK8",
        "colab_type": "code",
        "outputId": "0d7b24ac-dae7-462e-a8c2-63cf98620dae",
        "colab": {
          "base_uri": "https://localhost:8080/",
          "height": 34
        }
      },
      "cell_type": "code",
      "source": [
        "function_3_1([1, 5, 3, 6, 5, 6, 3, 6], 5, 3) == 13"
      ],
      "execution_count": 0,
      "outputs": [
        {
          "output_type": "execute_result",
          "data": {
            "text/plain": [
              "True"
            ]
          },
          "metadata": {
            "tags": []
          },
          "execution_count": 78
        }
      ]
    },
    {
      "metadata": {
        "id": "ukUOJ5TtSLLF",
        "colab_type": "code",
        "outputId": "c6e0aaeb-abf5-4636-af1d-1304579ceefe",
        "colab": {
          "base_uri": "https://localhost:8080/",
          "height": 34
        }
      },
      "cell_type": "code",
      "source": [
        "function_3_1([1, 5, 3, 6, 5, 6, 3, 6], 4, 3) == 7"
      ],
      "execution_count": 0,
      "outputs": [
        {
          "output_type": "execute_result",
          "data": {
            "text/plain": [
              "True"
            ]
          },
          "metadata": {
            "tags": []
          },
          "execution_count": 79
        }
      ]
    },
    {
      "metadata": {
        "id": "MfZ0jUjsSLLQ",
        "colab_type": "code",
        "outputId": "20c2a6d5-ff3e-40a0-e598-08233162fa53",
        "colab": {
          "base_uri": "https://localhost:8080/",
          "height": 34
        }
      },
      "cell_type": "code",
      "source": [
        "function_3_1([1, 5, 3, 6, 5, 6, 3, 6], 6, 2) == 12"
      ],
      "execution_count": 0,
      "outputs": [
        {
          "output_type": "execute_result",
          "data": {
            "text/plain": [
              "True"
            ]
          },
          "metadata": {
            "tags": []
          },
          "execution_count": 80
        }
      ]
    },
    {
      "metadata": {
        "id": "yjX97t35SLLe",
        "colab_type": "code",
        "outputId": "373accd9-944e-4bb7-9636-7beb267f36a9",
        "colab": {
          "base_uri": "https://localhost:8080/",
          "height": 34
        }
      },
      "cell_type": "code",
      "source": [
        "function_3_1([1, 5, 3, 6, 5, 6, 3, 6], 5, 2) == 10"
      ],
      "execution_count": 0,
      "outputs": [
        {
          "output_type": "execute_result",
          "data": {
            "text/plain": [
              "True"
            ]
          },
          "metadata": {
            "tags": []
          },
          "execution_count": 81
        }
      ]
    },
    {
      "metadata": {
        "id": "7UOjCrfeSLLm",
        "colab_type": "code",
        "outputId": "f8fb8820-312d-4f6b-b148-b1b8ff6866eb",
        "colab": {
          "base_uri": "https://localhost:8080/",
          "height": 34
        }
      },
      "cell_type": "code",
      "source": [
        "function_3_1([1, 5, 3, 6, 5, 6, 3, 6], 4, 2) == 6"
      ],
      "execution_count": 0,
      "outputs": [
        {
          "output_type": "execute_result",
          "data": {
            "text/plain": [
              "True"
            ]
          },
          "metadata": {
            "tags": []
          },
          "execution_count": 82
        }
      ]
    },
    {
      "metadata": {
        "id": "c8kawqdlSLL0",
        "colab_type": "text"
      },
      "cell_type": "markdown",
      "source": [
        "#### Значение для формы"
      ]
    },
    {
      "metadata": {
        "id": "S6r7YZsVSLL-",
        "colab_type": "code",
        "outputId": "92c63f7b-29be-4bde-b5fb-43ac097bc053",
        "colab": {
          "base_uri": "https://localhost:8080/",
          "height": 34
        }
      },
      "cell_type": "code",
      "source": [
        "import random\n",
        "\n",
        "random.seed(42)\n",
        "print(function_3_1([random.randint(0, 1000) for _ in range(10000)], 700, 300))"
      ],
      "execution_count": 0,
      "outputs": [
        {
          "output_type": "stream",
          "text": [
            "205778\n"
          ],
          "name": "stdout"
        }
      ]
    },
    {
      "metadata": {
        "id": "4Pxg9xOVSLMI",
        "colab_type": "text"
      },
      "cell_type": "markdown",
      "source": [
        "## Задание 3.2\n",
        "\n",
        "Напишите списковое выражение, генерирующее все простые числа не больше заданного числа"
      ]
    },
    {
      "metadata": {
        "id": "R4xTVWi3SLMP",
        "colab_type": "code",
        "colab": {}
      },
      "cell_type": "code",
      "source": [
        "def function_3_2(n):\n",
        "    return [\n",
        "        it for it in range(2, n+1) if all(it%i != 0 for i in range(2, it))\n",
        "    ]"
      ],
      "execution_count": 0,
      "outputs": []
    },
    {
      "metadata": {
        "id": "jX_0rpHsSLMZ",
        "colab_type": "code",
        "outputId": "8d73febb-2f89-40aa-918c-921b6206f967",
        "colab": {
          "base_uri": "https://localhost:8080/",
          "height": 34
        }
      },
      "cell_type": "code",
      "source": [
        "function_3_2(3) == [2, 3]"
      ],
      "execution_count": 0,
      "outputs": [
        {
          "output_type": "execute_result",
          "data": {
            "text/plain": [
              "True"
            ]
          },
          "metadata": {
            "tags": []
          },
          "execution_count": 14
        }
      ]
    },
    {
      "metadata": {
        "id": "a8mJZ-j5SLMh",
        "colab_type": "code",
        "outputId": "c0c6c700-4fd6-4555-a520-bdd757239bd9",
        "colab": {
          "base_uri": "https://localhost:8080/",
          "height": 34
        }
      },
      "cell_type": "code",
      "source": [
        "function_3_2(10) == [2, 3, 5, 7]"
      ],
      "execution_count": 0,
      "outputs": [
        {
          "output_type": "execute_result",
          "data": {
            "text/plain": [
              "True"
            ]
          },
          "metadata": {
            "tags": []
          },
          "execution_count": 15
        }
      ]
    },
    {
      "metadata": {
        "id": "0NVBtCygSLMq",
        "colab_type": "code",
        "outputId": "1254c4d2-75e0-4821-ce80-46e4f725fbf6",
        "colab": {
          "base_uri": "https://localhost:8080/",
          "height": 34
        }
      },
      "cell_type": "code",
      "source": [
        "function_3_2(20) == [2, 3, 5, 7, 11, 13, 17, 19]"
      ],
      "execution_count": 0,
      "outputs": [
        {
          "output_type": "execute_result",
          "data": {
            "text/plain": [
              "True"
            ]
          },
          "metadata": {
            "tags": []
          },
          "execution_count": 16
        }
      ]
    },
    {
      "metadata": {
        "id": "lG3FH8F1SLM3",
        "colab_type": "text"
      },
      "cell_type": "markdown",
      "source": [
        "#### Значение для формы"
      ]
    },
    {
      "metadata": {
        "id": "Xse5zP_1SLM8",
        "colab_type": "code",
        "outputId": "12f7b302-503b-4ee5-f783-6fcaa2e99a85",
        "colab": {
          "base_uri": "https://localhost:8080/",
          "height": 34
        }
      },
      "cell_type": "code",
      "source": [
        "print(sum(function_3_2(10000)))"
      ],
      "execution_count": 0,
      "outputs": [
        {
          "output_type": "stream",
          "text": [
            "5736396\n"
          ],
          "name": "stdout"
        }
      ]
    },
    {
      "metadata": {
        "id": "XbebnjRISLNG",
        "colab_type": "text"
      },
      "cell_type": "markdown",
      "source": [
        "# По хардкору"
      ]
    },
    {
      "metadata": {
        "id": "AITEMGdASLNI",
        "colab_type": "text"
      },
      "cell_type": "markdown",
      "source": [
        "## Задание 4.1\n",
        "\n",
        "Напишите функцию, которая по множеству, возвращает список всех его подмножеств"
      ]
    },
    {
      "metadata": {
        "id": "PvxSmb8mSLNL",
        "colab_type": "code",
        "colab": {}
      },
      "cell_type": "code",
      "source": [
        "def function_4_1(my_set):\n",
        "    s_list = list(my_set)\n",
        "    n = len(s_list)\n",
        "    codes = ['0', '1']\n",
        "    subset_list = []\n",
        "    for i in range(n-1):\n",
        "        merged = codes + list(reversed(codes))\n",
        "        half_len = int(len(merged)/2)\n",
        "        for i in range(half_len):\n",
        "            merged[i] = '0' + merged[i]\n",
        "            merged[half_len+i] = '1' + merged[half_len+i]\n",
        "        codes = merged\n",
        "    \n",
        "    for code in codes:\n",
        "        subset = set()\n",
        "        for ind in range(len(code)):\n",
        "            if code[ind]=='1':\n",
        "                subset.add(s_list[ind])\n",
        "        subset_list.append(subset)\n",
        "    return subset_list"
      ],
      "execution_count": 0,
      "outputs": []
    },
    {
      "metadata": {
        "id": "P1OUetlHSLNS",
        "colab_type": "code",
        "colab": {}
      },
      "cell_type": "code",
      "source": [
        "def check_4_1(my_set, function_res):\n",
        "    if len(function_res) != len(set(map(frozenset, function_res))):\n",
        "        return False\n",
        "    if len(function_res) != 2 ** len(my_set):\n",
        "        return False\n",
        "    return all(x <= my_set for x in function_res)"
      ],
      "execution_count": 0,
      "outputs": []
    },
    {
      "metadata": {
        "id": "lQDED7QvSLNe",
        "colab_type": "code",
        "outputId": "81ea8ba4-5e1d-43fa-b0fa-44f983d19a9c",
        "colab": {
          "base_uri": "https://localhost:8080/",
          "height": 34
        }
      },
      "cell_type": "code",
      "source": [
        "check_4_1(set(range(10)), function_4_1(set(range(10))))"
      ],
      "execution_count": 0,
      "outputs": [
        {
          "output_type": "execute_result",
          "data": {
            "text/plain": [
              "True"
            ]
          },
          "metadata": {
            "tags": []
          },
          "execution_count": 24
        }
      ]
    },
    {
      "metadata": {
        "id": "BMn5tdWWSLNl",
        "colab_type": "code",
        "outputId": "53db5ba1-c355-42d4-a770-e917d6e2ab02",
        "colab": {
          "base_uri": "https://localhost:8080/",
          "height": 34
        }
      },
      "cell_type": "code",
      "source": [
        "check_4_1(set(range(1)), function_4_1(set(range(1))))"
      ],
      "execution_count": 0,
      "outputs": [
        {
          "output_type": "execute_result",
          "data": {
            "text/plain": [
              "True"
            ]
          },
          "metadata": {
            "tags": []
          },
          "execution_count": 25
        }
      ]
    },
    {
      "metadata": {
        "id": "OVOK41H7SLNt",
        "colab_type": "code",
        "outputId": "49e78ccb-2206-4414-8c24-e61dedbbda32",
        "colab": {
          "base_uri": "https://localhost:8080/",
          "height": 34
        }
      },
      "cell_type": "code",
      "source": [
        "check_4_1(set(range(20)), function_4_1(set(range(20))))"
      ],
      "execution_count": 0,
      "outputs": [
        {
          "output_type": "execute_result",
          "data": {
            "text/plain": [
              "True"
            ]
          },
          "metadata": {
            "tags": []
          },
          "execution_count": 26
        }
      ]
    },
    {
      "metadata": {
        "id": "Z5poTQAhSLN0",
        "colab_type": "text"
      },
      "cell_type": "markdown",
      "source": [
        "#### Значение для формы"
      ]
    },
    {
      "metadata": {
        "id": "VgtEhJaXSLN3",
        "colab_type": "code",
        "outputId": "c8a8bbdd-008b-4ee4-e260-bb43b82ff6a1",
        "colab": {
          "base_uri": "https://localhost:8080/",
          "height": 34
        }
      },
      "cell_type": "code",
      "source": [
        "print(sum([\n",
        "    len(subset) - sum(subset) + sum(subset) ** 2\n",
        "    for subset in function_4_1(set(range(2, 21, 3)))\n",
        "]))"
      ],
      "execution_count": 0,
      "outputs": [
        {
          "output_type": "stream",
          "text": [
            "220416\n"
          ],
          "name": "stdout"
        }
      ]
    },
    {
      "metadata": {
        "id": "Zh1f7Kj2SLN7",
        "colab_type": "text"
      },
      "cell_type": "markdown",
      "source": [
        "## Задание 4.2\n",
        "\n",
        "Напишите функцию раскладывающее число на простые множители\n",
        "\n",
        "по числу $n$ нужно вернуть список пар $(p_i, c_i)$ такой, что $\\prod_i~p_i^{c_i} = n$"
      ]
    },
    {
      "metadata": {
        "id": "ELyI57sDSLN9",
        "colab_type": "code",
        "colab": {}
      },
      "cell_type": "code",
      "source": [
        "def is_prime(n):\n",
        "    return n > 1 and all(n % i != 0 for i in range(2, n))\n",
        "\n",
        "def function_4_2(n):\n",
        "    decomp = []\n",
        "    primes = primes_to(n)\n",
        "    i = 0\n",
        "    deg = 0\n",
        "    while n != 1:\n",
        "        if n%primes[i] == 0:\n",
        "            deg = deg+1\n",
        "            n = n/primes[i]      \n",
        "            continue\n",
        "        decomp.append((primes[i], deg))\n",
        "        i = i+1\n",
        "        deg = 0\n",
        "    decomp.append((primes[i], deg))\n",
        "    return decomp"
      ],
      "execution_count": 0,
      "outputs": []
    },
    {
      "metadata": {
        "id": "18tpDnpzSLOI",
        "colab_type": "code",
        "colab": {}
      },
      "cell_type": "code",
      "source": [
        "def check_4_2(n, my_list):\n",
        "    prod = 1\n",
        "    for p, c in my_list:\n",
        "        if not is_prime(p):\n",
        "            return False\n",
        "        prod *= p ** c\n",
        "    return prod == n"
      ],
      "execution_count": 0,
      "outputs": []
    },
    {
      "metadata": {
        "id": "58KuHw6xSLOS",
        "colab_type": "code",
        "outputId": "b943b86f-18c5-4193-caa7-b486205a9d2b",
        "colab": {
          "base_uri": "https://localhost:8080/",
          "height": 34
        }
      },
      "cell_type": "code",
      "source": [
        "check_4_2(10, function_4_2(10))"
      ],
      "execution_count": 0,
      "outputs": [
        {
          "output_type": "execute_result",
          "data": {
            "text/plain": [
              "True"
            ]
          },
          "metadata": {
            "tags": []
          },
          "execution_count": 53
        }
      ]
    },
    {
      "metadata": {
        "id": "HqTZ9myfSLOY",
        "colab_type": "code",
        "outputId": "ac6ed6ea-3746-4bcd-99e2-130de0fd0e1b",
        "colab": {
          "base_uri": "https://localhost:8080/",
          "height": 34
        }
      },
      "cell_type": "code",
      "source": [
        "check_4_2(11690, function_4_2(11690))"
      ],
      "execution_count": 0,
      "outputs": [
        {
          "output_type": "execute_result",
          "data": {
            "text/plain": [
              "True"
            ]
          },
          "metadata": {
            "tags": []
          },
          "execution_count": 54
        }
      ]
    },
    {
      "metadata": {
        "id": "l9dW7uDjSLOj",
        "colab_type": "code",
        "outputId": "bdcae6d0-c37d-4044-cf38-794a655eede1",
        "colab": {
          "base_uri": "https://localhost:8080/",
          "height": 34
        }
      },
      "cell_type": "code",
      "source": [
        "check_4_2(254242, function_4_2(254242))"
      ],
      "execution_count": 0,
      "outputs": [
        {
          "output_type": "execute_result",
          "data": {
            "text/plain": [
              "True"
            ]
          },
          "metadata": {
            "tags": []
          },
          "execution_count": 55
        }
      ]
    },
    {
      "metadata": {
        "id": "jXs0OHqnSLOo",
        "colab_type": "text"
      },
      "cell_type": "markdown",
      "source": [
        "#### Значение для формы"
      ]
    },
    {
      "metadata": {
        "id": "l5wvimaYSLOq",
        "colab_type": "code",
        "outputId": "0092a1ee-ced3-400b-ac16-66bea8e616d8",
        "colab": {
          "base_uri": "https://localhost:8080/",
          "height": 34
        }
      },
      "cell_type": "code",
      "source": [
        "print(sum(\n",
        "    (c + 1) ** (p - 1) * c - p\n",
        "    for p, c in function_4_2(7648)\n",
        "))"
      ],
      "execution_count": 0,
      "outputs": [
        {
          "output_type": "stream",
          "text": [
            "441711766194596082395824375185729628956870974218904739530401550323149385\n"
          ],
          "name": "stdout"
        }
      ]
    },
    {
      "metadata": {
        "id": "eWVmrg5VNbfq",
        "colab_type": "code",
        "colab": {}
      },
      "cell_type": "code",
      "source": [
        "primes_to = function_3_2"
      ],
      "execution_count": 0,
      "outputs": []
    },
    {
      "metadata": {
        "id": "gdTLI--MBvid",
        "colab_type": "code",
        "outputId": "e5879585-c4ae-4c7d-bf46-1a3499833f36",
        "colab": {
          "base_uri": "https://localhost:8080/",
          "height": 34
        }
      },
      "cell_type": "code",
      "source": [
        "n = 10\n",
        "dividers = []\n",
        "decomp = []\n",
        "primes = primes_to(n)\n",
        "i = 0\n",
        "deg = 0\n",
        "while n != 1:\n",
        "    if n%primes[i] == 0:\n",
        "        deg = deg+1\n",
        "        n = n/primes[i]      \n",
        "        continue\n",
        "    decomp.append((primes[i], deg))\n",
        "    i = i+1\n",
        "    deg = 0\n",
        "decomp.append((primes[i], deg))\n",
        "print( decomp)"
      ],
      "execution_count": 0,
      "outputs": [
        {
          "output_type": "stream",
          "text": [
            "[(2, 1), (3, 0), (5, 1)]\n"
          ],
          "name": "stdout"
        }
      ]
    },
    {
      "metadata": {
        "id": "HQ2LSReTFK8Z",
        "colab_type": "code",
        "colab": {}
      },
      "cell_type": "code",
      "source": [
        ""
      ],
      "execution_count": 0,
      "outputs": []
    }
  ]
}